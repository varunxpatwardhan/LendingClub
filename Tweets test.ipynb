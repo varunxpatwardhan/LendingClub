{
 "cells": [
  {
   "cell_type": "code",
   "execution_count": 3,
   "metadata": {},
   "outputs": [],
   "source": [
    "import json\n",
    "import pandas as pd\n",
    "import matplotlib.pyplot as plt\n",
    "%matplotlib inline\n",
    "from flatten_json import flatten"
   ]
  },
  {
   "cell_type": "code",
   "execution_count": 6,
   "metadata": {
    "collapsed": true
   },
   "outputs": [],
   "source": [
    "tweets_data_path='D:\\\\ML_Tweet\\\\30.json'"
   ]
  },
  {
   "cell_type": "code",
   "execution_count": 7,
   "metadata": {},
   "outputs": [],
   "source": [
    "tweets_data=[]\n",
    "tweets_file=open(tweets_data_path,'r')\n",
    "for line in tweets_file:\n",
    "    try:\n",
    "        tweet=json.loads(line)\n",
    "        tweets_data.append(tweet)\n",
    "    except:\n",
    "        continue"
   ]
  },
  {
   "cell_type": "code",
   "execution_count": 8,
   "metadata": {},
   "outputs": [],
   "source": [
    "    dic_flattened = (flatten(d) for d in tweets_data)\n",
    "    df = pd.DataFrame(dic_flattened)\n",
    "    X=df.loc[df['lang'] == 'en']\n",
    "    Y=X.select(lambda col: col.startswith('entities_hashtags_'), axis=1).filter(like='text')\n",
    "    Y.dropna(axis=1,how='all',inplace=True)\n",
    "    result = pd.concat([Y, X['text'],X['created_at']], axis=1)\n",
    "    result.dropna(axis=0,subset=['entities_hashtags_0_text'],inplace=True)\n",
    "    final_local=result[result.text.str.contains(\"RT @\") == False]"
   ]
  },
  {
   "cell_type": "code",
   "execution_count": 27,
   "metadata": {},
   "outputs": [
    {
     "name": "stdout",
     "output_type": "stream",
     "text": [
      "<generator object <genexpr> at 0x000001774EDEABF8>\n"
     ]
    }
   ],
   "source": [
    "print(dic_flattened)"
   ]
  },
  {
   "cell_type": "code",
   "execution_count": 37,
   "metadata": {},
   "outputs": [
    {
     "data": {
      "text/plain": [
       "'Thu Jun 01 06:30:00 +0000 2017'"
      ]
     },
     "execution_count": 37,
     "metadata": {},
     "output_type": "execute_result"
    }
   ],
   "source": [
    "final_local.iloc[0]"
   ]
  },
  {
   "cell_type": "code",
   "execution_count": 32,
   "metadata": {},
   "outputs": [
    {
     "data": {
      "text/plain": [
       "text          Kenya, a nation of character, rooted in justic...\n",
       "created_at                       Thu Jun 01 06:30:00 +0000 2017\n",
       "Name: (KenyaIsOne, nan, nan, nan, nan, nan), dtype: object"
      ]
     },
     "execution_count": 32,
     "metadata": {},
     "output_type": "execute_result"
    }
   ],
   "source": [
    " final_local.iloc[1]"
   ]
  },
  {
   "cell_type": "code",
   "execution_count": 17,
   "metadata": {},
   "outputs": [],
   "source": [
    "final_local = final_local.set_index(['entities_hashtags_0_text','entities_hashtags_1_text','entities_hashtags_2_text','entities_hashtags_3_text','entities_hashtags_4_text','entities_hashtags_5_text'])"
   ]
  },
  {
   "cell_type": "code",
   "execution_count": 23,
   "metadata": {},
   "outputs": [
    {
     "data": {
      "text/plain": [
       "entities_hashtags_0_text  entities_hashtags_1_text  entities_hashtags_2_text  entities_hashtags_3_text  entities_hashtags_4_text  entities_hashtags_5_text            \n",
       "MHOWS                     NaN                       NaN                       NaN                       NaN                       NaN                       text          People have a hard time letting go of their su...\n",
       "                                                                                                                                                            created_at                       Thu Jun 01 06:30:00 +0000 2017\n",
       "KenyaIsOne                NaN                       NaN                       NaN                       NaN                       NaN                       text          Kenya, a nation of character, rooted in justic...\n",
       "                                                                                                                                                            created_at                       Thu Jun 01 06:30:00 +0000 2017\n",
       "PodernFamily              NaN                       NaN                       NaN                       NaN                       NaN                       text          On the NEW Unwritable Rant podcast: Overripe d...\n",
       "                                                                                                                                                            created_at                       Thu Jun 01 06:30:00 +0000 2017\n",
       "t1549420                  NaN                       NaN                       NaN                       NaN                       NaN                       text          Indoors: 20.0°, humidity: 61%\\nOutdoors: 12.6°...\n",
       "                                                                                                                                                            created_at                       Thu Jun 01 06:30:00 +0000 2017\n",
       "HiLifeFest2017            HiLifeFestABA             NaN                       NaN                       NaN                       NaN                       text          Life Continental Lager Beer bringing to you th...\n",
       "                                                                                                                                                            created_at                       Thu Jun 01 06:30:00 +0000 2017\n",
       "Nepotism                  NaN                       NaN                       NaN                       NaN                       NaN                       text          #Nepotism has been harder than most people for...\n",
       "                                                                                                                                                            created_at                       Thu Jun 01 06:30:00 +0000 2017\n",
       "NowPlaying                NaN                       NaN                       NaN                       NaN                       NaN                       text          Calvin Harris - You Used To Hold Me #NowPlayin...\n",
       "                                                                                                                                                            created_at                       Thu Jun 01 06:30:01 +0000 2017\n",
       "                                                                                                                                                            text          #NowPlaying: Campain - God First ft. Antoine H...\n",
       "                                                                                                                                                            created_at                       Thu Jun 01 06:30:01 +0000 2017\n",
       "hygge                     hyggelig                  NaN                       NaN                       NaN                       NaN                       text          Morning everyone. Taking a little time to grin...\n",
       "                                                                                                                                                            created_at                       Thu Jun 01 06:30:01 +0000 2017\n",
       "NoteBot_2_0               NaN                       NaN                       NaN                       NaN                       NaN                       text                          Where's the kitchen? #NoteBot_2_0\n",
       "                                                                                                                                                            created_at                       Thu Jun 01 06:30:02 +0000 2017\n",
       "GatherRound               NaN                       NaN                       NaN                       NaN                       NaN                       text          Chevalier De Saint George was a famous compose...\n",
       "                                                                                                                                                            created_at                       Thu Jun 01 06:30:02 +0000 2017\n",
       "METAL                     IPORADIO                  NaN                       NaN                       NaN                       NaN                       text          Now Playing: The Story So Far - Mock Listen He...\n",
       "                                                                                                                                                            created_at                       Thu Jun 01 06:30:02 +0000 2017\n",
       "Keanu                     NaN                       NaN                       NaN                       NaN                       NaN                       text          Wow moviestar 🎬🎥madness this amazing picture s...\n",
       "                                                                                                                                                            created_at                       Thu Jun 01 06:30:02 +0000 2017\n",
       "stonebeads                beadswholesale            NaN                       NaN                       NaN                       NaN                       text          15 inch strand of Purple Garnet faceted round ...\n",
       "                                                                                                                                                            created_at                       Thu Jun 01 06:30:04 +0000 2017\n",
       "Logan                     HughJackman               NaN                       NaN                       NaN                       NaN                       text          You can watch the full movie #Logan in HD now ...\n",
       "                                                                                                                                                            created_at                       Thu Jun 01 06:30:04 +0000 2017\n",
       "                                                                                                                                                                                                ...                        \n",
       "VeranoMTV2017             NaN                       NaN                       NaN                       NaN                       NaN                       text                        The_Einreo #VeranoMTV2017 Lady Gaga\n",
       "                                                                                                                                                            created_at                       Thu Jun 01 06:30:39 +0000 2017\n",
       "MJBPartner                NaN                       NaN                       NaN                       NaN                       NaN                       text            Love It all #MJBPartner https://t.co/v2EumbTOYI\n",
       "                                                                                                                                                            created_at                       Thu Jun 01 06:30:41 +0000 2017\n",
       "StretchMarks              NaN                       NaN                       NaN                       NaN                       NaN                       text          The middle layer of skin (dermis) breaks in pl...\n",
       "                                                                                                                                                            created_at                       Thu Jun 01 06:30:43 +0000 2017\n",
       "BoyMeetsWorld             NaN                       NaN                       NaN                       NaN                       NaN                       text          KarloMdz: TVGuide: 10 life lessons from #BoyMe...\n",
       "                                                                                                                                                            created_at                       Thu Jun 01 06:30:47 +0000 2017\n",
       "interiordesign            decoration                NaN                       NaN                       NaN                       NaN                       text          Please RT ! #interiordesign #decoration Styliz...\n",
       "                                                                                                                                                            created_at                       Thu Jun 01 06:30:47 +0000 2017\n",
       "LizQuenJuneBlast          NaN                       NaN                       NaN                       NaN                       NaN                       text                           A Love To Last #LizQuenJuneBlast\n",
       "                                                                                                                                                            created_at                       Thu Jun 01 06:30:48 +0000 2017\n",
       "NowPlaying                NaN                       NaN                       NaN                       NaN                       NaN                       text          #NowPlaying Love Me by Disco Jets Internationa...\n",
       "                                                                                                                                                            created_at                       Thu Jun 01 06:30:49 +0000 2017\n",
       "                          Anghami                   NaN                       NaN                       NaN                       NaN                       text          #NowPlaying Loyal by Chris Brown feat. Lil Way...\n",
       "                                                                                                                                                            created_at                       Thu Jun 01 06:30:54 +0000 2017\n",
       "farm                      agriculture               NaN                       NaN                       NaN                       NaN                       text          AGRI-DAY 2017 Now Open https://t.co/ddhpQnmQkH...\n",
       "                                                                                                                                                            created_at                       Thu Jun 01 06:30:54 +0000 2017\n",
       "Business                  NaN                       NaN                       NaN                       NaN                       NaN                       text          Uber's Tumultuous Year Continues As Finance Ch...\n",
       "                                                                                                                                                            created_at                       Thu Jun 01 06:30:55 +0000 2017\n",
       "BTSforVMAs                2017BTSFESTA              NaN                       NaN                       NaN                       NaN                       text          BTS' POPULARITY RIGHT HERE 👇👇👇 #BTSforVMAs #20...\n",
       "                                                                                                                                                            created_at                       Thu Jun 01 06:30:56 +0000 2017\n",
       "twins                     MLB                       NaN                       NaN                       NaN                       NaN                       text          Astros 17, Twins 6: Pitching, Team Still Stink...\n",
       "                                                                                                                                                            created_at                       Thu Jun 01 06:30:56 +0000 2017\n",
       "business                  insurance                 NaN                       NaN                       NaN                       NaN                       text          Insurance Premium Tax has increased with effec...\n",
       "                                                                                                                                                            created_at                       Thu Jun 01 06:30:59 +0000 2017\n",
       "lollyandmitch             NaN                       NaN                       NaN                       NaN                       NaN                       text          ALL of these styles and millions of others all...\n",
       "                                                                                                                                                            created_at                       Thu Jun 01 06:30:59 +0000 2017\n",
       "artabandoned              freeartfriday             NaN                       NaN                       NaN                       NaN                       text          today's #artabandoned #freeartfriday drop comp...\n",
       "                                                                                                                                                            created_at                       Thu Jun 01 06:30:59 +0000 2017\n",
       "Length: 136, dtype: object"
      ]
     },
     "execution_count": 23,
     "metadata": {},
     "output_type": "execute_result"
    }
   ],
   "source": [
    "final_local.stack()"
   ]
  },
  {
   "cell_type": "code",
   "execution_count": 12,
   "metadata": {
    "collapsed": true
   },
   "outputs": [],
   "source": [
    "keys = [c for c in final_local if c.startswith('entities_hashtags')]"
   ]
  },
  {
   "cell_type": "code",
   "execution_count": 13,
   "metadata": {},
   "outputs": [
    {
     "data": {
      "text/plain": [
       "['entities_hashtags_0_text',\n",
       " 'entities_hashtags_1_text',\n",
       " 'entities_hashtags_2_text',\n",
       " 'entities_hashtags_3_text',\n",
       " 'entities_hashtags_4_text',\n",
       " 'entities_hashtags_5_text']"
      ]
     },
     "execution_count": 13,
     "metadata": {},
     "output_type": "execute_result"
    }
   ],
   "source": [
    "keys"
   ]
  },
  {
   "cell_type": "code",
   "execution_count": 14,
   "metadata": {},
   "outputs": [
    {
     "ename": "ValueError",
     "evalue": "level should contain all level names or all level numbers, not a mixture of the two.",
     "output_type": "error",
     "traceback": [
      "\u001b[1;31m---------------------------------------------------------------------------\u001b[0m",
      "\u001b[1;31mValueError\u001b[0m                                Traceback (most recent call last)",
      "\u001b[1;32m<ipython-input-14-a1a6183a060a>\u001b[0m in \u001b[0;36m<module>\u001b[1;34m()\u001b[0m\n\u001b[1;32m----> 1\u001b[1;33m \u001b[0mfinal_local\u001b[0m\u001b[1;33m.\u001b[0m\u001b[0mstack\u001b[0m\u001b[1;33m(\u001b[0m\u001b[0mlevel\u001b[0m\u001b[1;33m=\u001b[0m\u001b[1;33m[\u001b[0m\u001b[1;34m'entities_hashtags_0_text'\u001b[0m\u001b[1;33m,\u001b[0m\u001b[1;34m'entities_hashtags_1_text'\u001b[0m\u001b[1;33m,\u001b[0m\u001b[1;34m'entities_hashtags_3_text'\u001b[0m\u001b[1;33m]\u001b[0m\u001b[1;33m)\u001b[0m\u001b[1;33m\u001b[0m\u001b[0m\n\u001b[0m",
      "\u001b[1;32mC:\\Users\\varun\\Anaconda3\\lib\\site-packages\\pandas\\core\\frame.py\u001b[0m in \u001b[0;36mstack\u001b[1;34m(self, level, dropna)\u001b[0m\n\u001b[0;32m   3987\u001b[0m \u001b[1;33m\u001b[0m\u001b[0m\n\u001b[0;32m   3988\u001b[0m         \u001b[1;32mif\u001b[0m \u001b[0misinstance\u001b[0m\u001b[1;33m(\u001b[0m\u001b[0mlevel\u001b[0m\u001b[1;33m,\u001b[0m \u001b[1;33m(\u001b[0m\u001b[0mtuple\u001b[0m\u001b[1;33m,\u001b[0m \u001b[0mlist\u001b[0m\u001b[1;33m)\u001b[0m\u001b[1;33m)\u001b[0m\u001b[1;33m:\u001b[0m\u001b[1;33m\u001b[0m\u001b[0m\n\u001b[1;32m-> 3989\u001b[1;33m             \u001b[1;32mreturn\u001b[0m \u001b[0mstack_multiple\u001b[0m\u001b[1;33m(\u001b[0m\u001b[0mself\u001b[0m\u001b[1;33m,\u001b[0m \u001b[0mlevel\u001b[0m\u001b[1;33m,\u001b[0m \u001b[0mdropna\u001b[0m\u001b[1;33m=\u001b[0m\u001b[0mdropna\u001b[0m\u001b[1;33m)\u001b[0m\u001b[1;33m\u001b[0m\u001b[0m\n\u001b[0m\u001b[0;32m   3990\u001b[0m         \u001b[1;32melse\u001b[0m\u001b[1;33m:\u001b[0m\u001b[1;33m\u001b[0m\u001b[0m\n\u001b[0;32m   3991\u001b[0m             \u001b[1;32mreturn\u001b[0m \u001b[0mstack\u001b[0m\u001b[1;33m(\u001b[0m\u001b[0mself\u001b[0m\u001b[1;33m,\u001b[0m \u001b[0mlevel\u001b[0m\u001b[1;33m,\u001b[0m \u001b[0mdropna\u001b[0m\u001b[1;33m=\u001b[0m\u001b[0mdropna\u001b[0m\u001b[1;33m)\u001b[0m\u001b[1;33m\u001b[0m\u001b[0m\n",
      "\u001b[1;32mC:\\Users\\varun\\Anaconda3\\lib\\site-packages\\pandas\\core\\reshape\\reshape.py\u001b[0m in \u001b[0;36mstack_multiple\u001b[1;34m(frame, level, dropna)\u001b[0m\n\u001b[0;32m    587\u001b[0m \u001b[1;33m\u001b[0m\u001b[0m\n\u001b[0;32m    588\u001b[0m     \u001b[1;32melse\u001b[0m\u001b[1;33m:\u001b[0m\u001b[1;33m\u001b[0m\u001b[0m\n\u001b[1;32m--> 589\u001b[1;33m         raise ValueError(\"level should contain all level names or all level \"\n\u001b[0m\u001b[0;32m    590\u001b[0m                          \"numbers, not a mixture of the two.\")\n\u001b[0;32m    591\u001b[0m \u001b[1;33m\u001b[0m\u001b[0m\n",
      "\u001b[1;31mValueError\u001b[0m: level should contain all level names or all level numbers, not a mixture of the two."
     ]
    }
   ],
   "source": [
    "final_local.melt(id_vars=)"
   ]
  },
  {
   "cell_type": "code",
   "execution_count": null,
   "metadata": {
    "collapsed": true
   },
   "outputs": [],
   "source": []
  }
 ],
 "metadata": {
  "kernelspec": {
   "display_name": "Python 3",
   "language": "python",
   "name": "python3"
  },
  "language_info": {
   "codemirror_mode": {
    "name": "ipython",
    "version": 3
   },
   "file_extension": ".py",
   "mimetype": "text/x-python",
   "name": "python",
   "nbconvert_exporter": "python",
   "pygments_lexer": "ipython3",
   "version": "3.6.1"
  }
 },
 "nbformat": 4,
 "nbformat_minor": 2
}
